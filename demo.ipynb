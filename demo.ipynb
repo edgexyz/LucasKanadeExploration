{
 "cells": [
  {
   "cell_type": "markdown",
   "metadata": {},
   "source": [
    "## Demo for Lucas Kanade Inverse Algorithm\n",
    "by Jerry Li and Shu Yang"
   ]
  },
  {
   "cell_type": "code",
   "execution_count": null,
   "metadata": {},
   "outputs": [],
   "source": [
    "from LucasKanade import LucasKanadeInverse\n",
    "from PIL import Image\n",
    "import numpy as np"
   ]
  },
  {
   "cell_type": "markdown",
   "metadata": {},
   "source": [
    "### Import images for matching\n",
    "I represents the search image, and R represents the reference image. \\\n",
    "The algorithm aims to find the correct warp parameters that warps R to R' in I. In this demo, we converted all images into luminance images."
   ]
  },
  {
   "cell_type": "code",
   "execution_count": null,
   "metadata": {},
   "outputs": [],
   "source": [
    "I = Image.open(\"woman.png\") # Search Image\n",
    "if I.mode != \"L\":\n",
    "    I = I.convert(\"L\")\n",
    "    \n",
    "R = Image.open(\"woman_distort.png\") # Reference Image\n",
    "if R.mode != \"L\":\n",
    "    R = R.convert(\"L\")"
   ]
  },
  {
   "cell_type": "markdown",
   "metadata": {},
   "source": [
    "### Hyperparameters of the algorithm"
   ]
  },
  {
   "cell_type": "code",
   "execution_count": null,
   "metadata": {},
   "outputs": [],
   "source": [
    "R_width, R_length = R.size # size of the reference image\n",
    "eps = 0.001 # convergence threshold\n",
    "i_max = 1000 # maximum number of iterations\n",
    "p_init = np.array([1, 0, 0, 1, int(R_width/2), 0]) # initial guess for the warp parameters)"
   ]
  },
  {
   "cell_type": "markdown",
   "metadata": {},
   "source": [
    "### Run the algorithm"
   ]
  },
  {
   "cell_type": "code",
   "execution_count": null,
   "metadata": {},
   "outputs": [],
   "source": [
    "LK = LucasKanadeInverse(I, R, eps, i_max, p_init) # create an instance of the Lucas-Kanade algorithm\n",
    "if LK.run(): # if the algorithm converged\n",
    "    LK.plot_loss_curve()\n",
    "else: # if the algorithm failed to converge\n",
    "    print(\"Failed to converge\")"
   ]
  },
  {
   "cell_type": "markdown",
   "metadata": {},
   "source": [
    "### Visualize the boundary of the warped reference image on the search image"
   ]
  },
  {
   "cell_type": "code",
   "execution_count": null,
   "metadata": {},
   "outputs": [],
   "source": [
    "for i in range(LK.total_iter):\n",
    "    iter_img = LK.boundary_visualize(i, (255, 0, 0))\n",
    "    iter_img.save(f\"./test_results/woman_iter_{i}.png\")"
   ]
  }
 ],
 "metadata": {
  "kernelspec": {
   "display_name": "Python 3",
   "language": "python",
   "name": "python3"
  },
  "language_info": {
   "codemirror_mode": {
    "name": "ipython",
    "version": 3
   },
   "file_extension": ".py",
   "mimetype": "text/x-python",
   "name": "python",
   "nbconvert_exporter": "python",
   "pygments_lexer": "ipython3",
   "version": "3.11.5"
  }
 },
 "nbformat": 4,
 "nbformat_minor": 2
}
